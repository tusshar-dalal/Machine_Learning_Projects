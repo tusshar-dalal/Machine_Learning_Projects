{
 "cells": [
  {
   "cell_type": "markdown",
   "metadata": {},
   "source": [
    "Random Forest Algorithm with Python and Scikit-Learn\n",
    "-------------------------------------------------------------------------------"
   ]
  },
  {
   "cell_type": "markdown",
   "metadata": {},
   "source": [
    "__Random forest is a type of supervised machine learning algorithm based on ensemble learning. Ensemble learning is a type of learning where you join different types of algorithms or same algorithm multiple times to form a more powerful prediction model. The random forest algorithm combines multiple algorithm of the same type i.e. multiple decision trees, resulting in a forest of trees, hence the name \"Random Forest\". The random forest algorithm can be used for both regression and classification tasks.__"
   ]
  },
  {
   "cell_type": "markdown",
   "metadata": {},
   "source": [
    "How the Random Forest Algorithm Works\n",
    "------------------------------------------------------------\n",
    "\n",
    "The following are the basic steps involved in performing the random forest algorithm:\n",
    "\n",
    ">1 Pick N random records from the dataset.\n",
    "\n",
    ">2 Build a decision tree based on these N records.\n",
    "\n",
    ">3 Choose the number of trees you want in your algorithm \n",
    "   and repeat steps 1 and 2.\n",
    "   \n",
    ">4 In case of a regression problem, for a new record, each tree in the forest predicts a value for Y (output). The final value can be calculated by taking the average of all the values predicted by all the trees in forest. \n",
    "\n",
    ">Or, in case of a classification problem, each tree in the forest predicts the category to which the new record belongs. Finally, the new record is assigned to the category that wins the majority vote."
   ]
  },
  {
   "cell_type": "markdown",
   "metadata": {},
   "source": [
    "Advantages of using Random Forest\n",
    "-----------------------------------------------------\n",
    "As with any algorithm, there are advantages and disadvantages to using it. In the next two sections we'll take a look at the pros and cons of using random forest for classification and regression.\n",
    "\n",
    "1> The random forest algorithm is not biased, since, there are multiple trees and each tree is trained on a subset of data. Basically, the random forest algorithm relies on the power of \"the crowd\"; therefore the overall biasedness of the algorithm is reduced.\n",
    "\n",
    "2> This algorithm is very stable. Even if a new data point is introduced in the dataset the overall algorithm is not affected much since new data may impact one tree, but it is very hard for it to impact all the trees.\n",
    "\n",
    "3> The random forest algorithm works well when you have both categorical and numerical features. \n",
    "\n",
    "4> The random forest algorithm also works well when data has missing values or it has not been scaled well."
   ]
  },
  {
   "cell_type": "markdown",
   "metadata": {},
   "source": [
    "Disadvantages of using Random Forest\n",
    "---------------------------------------------------------\n",
    "1> A major disadvantage of random forests lies in their complexity. They required much more computational resources, owing to the large number of decision trees joined together.\n",
    "\n",
    "2> Due to their complexity, they require much more time to train; than other comparable algorithms."
   ]
  },
  {
   "cell_type": "markdown",
   "metadata": {},
   "source": [
    "1> Using Random Forest for Regression\n",
    "----------------------------------------------------------\n",
    "\n",
    "Problem Definition : The problem here is to predict the gas consumption (in millions of gallons) in 48 of the US states based on petrol tax (in cents), per capita income (dollars), paved highways (in miles) and the proportion of population with the driving license."
   ]
  },
  {
   "cell_type": "code",
   "execution_count": 2,
   "metadata": {},
   "outputs": [
    {
     "data": {
      "text/html": [
       "<div>\n",
       "<style scoped>\n",
       "    .dataframe tbody tr th:only-of-type {\n",
       "        vertical-align: middle;\n",
       "    }\n",
       "\n",
       "    .dataframe tbody tr th {\n",
       "        vertical-align: top;\n",
       "    }\n",
       "\n",
       "    .dataframe thead th {\n",
       "        text-align: right;\n",
       "    }\n",
       "</style>\n",
       "<table border=\"1\" class=\"dataframe\">\n",
       "  <thead>\n",
       "    <tr style=\"text-align: right;\">\n",
       "      <th></th>\n",
       "      <th>Petrol_tax</th>\n",
       "      <th>Average_income</th>\n",
       "      <th>Paved_Highways</th>\n",
       "      <th>Population_Driver_licence(%)</th>\n",
       "      <th>Petrol_Consumption</th>\n",
       "    </tr>\n",
       "  </thead>\n",
       "  <tbody>\n",
       "    <tr>\n",
       "      <td>0</td>\n",
       "      <td>9.0</td>\n",
       "      <td>3571</td>\n",
       "      <td>1976</td>\n",
       "      <td>0.525</td>\n",
       "      <td>541</td>\n",
       "    </tr>\n",
       "    <tr>\n",
       "      <td>1</td>\n",
       "      <td>9.0</td>\n",
       "      <td>4092</td>\n",
       "      <td>1250</td>\n",
       "      <td>0.572</td>\n",
       "      <td>524</td>\n",
       "    </tr>\n",
       "    <tr>\n",
       "      <td>2</td>\n",
       "      <td>9.0</td>\n",
       "      <td>3865</td>\n",
       "      <td>1586</td>\n",
       "      <td>0.580</td>\n",
       "      <td>561</td>\n",
       "    </tr>\n",
       "    <tr>\n",
       "      <td>3</td>\n",
       "      <td>7.5</td>\n",
       "      <td>4870</td>\n",
       "      <td>2351</td>\n",
       "      <td>0.529</td>\n",
       "      <td>414</td>\n",
       "    </tr>\n",
       "    <tr>\n",
       "      <td>4</td>\n",
       "      <td>8.0</td>\n",
       "      <td>4399</td>\n",
       "      <td>431</td>\n",
       "      <td>0.544</td>\n",
       "      <td>410</td>\n",
       "    </tr>\n",
       "  </tbody>\n",
       "</table>\n",
       "</div>"
      ],
      "text/plain": [
       "   Petrol_tax  Average_income  Paved_Highways  Population_Driver_licence(%)  Petrol_Consumption\n",
       "0         9.0            3571            1976                         0.525                 541\n",
       "1         9.0            4092            1250                         0.572                 524\n",
       "2         9.0            3865            1586                         0.580                 561\n",
       "3         7.5            4870            2351                         0.529                 414\n",
       "4         8.0            4399             431                         0.544                 410"
      ]
     },
     "execution_count": 2,
     "metadata": {},
     "output_type": "execute_result"
    }
   ],
   "source": [
    "# Import Libraries\n",
    "import pandas as pd  \n",
    "import numpy as np  \n",
    "\n",
    "dataset = pd.read_csv('./datasets_n_images/datasets_n_images/datasets_module_4/petrol_consumption.csv')  \n",
    "# your code goes here1\n",
    "dataset.head()"
   ]
  },
  {
   "cell_type": "code",
   "execution_count": 3,
   "metadata": {},
   "outputs": [
    {
     "data": {
      "text/html": [
       "<div>\n",
       "<style scoped>\n",
       "    .dataframe tbody tr th:only-of-type {\n",
       "        vertical-align: middle;\n",
       "    }\n",
       "\n",
       "    .dataframe tbody tr th {\n",
       "        vertical-align: top;\n",
       "    }\n",
       "\n",
       "    .dataframe thead th {\n",
       "        text-align: right;\n",
       "    }\n",
       "</style>\n",
       "<table border=\"1\" class=\"dataframe\">\n",
       "  <thead>\n",
       "    <tr style=\"text-align: right;\">\n",
       "      <th></th>\n",
       "      <th>Petrol_tax</th>\n",
       "      <th>Average_income</th>\n",
       "      <th>Paved_Highways</th>\n",
       "      <th>Population_Driver_licence(%)</th>\n",
       "      <th>Petrol_Consumption</th>\n",
       "    </tr>\n",
       "  </thead>\n",
       "  <tbody>\n",
       "    <tr>\n",
       "      <td>count</td>\n",
       "      <td>48.000000</td>\n",
       "      <td>48.000000</td>\n",
       "      <td>48.000000</td>\n",
       "      <td>48.000000</td>\n",
       "      <td>48.000000</td>\n",
       "    </tr>\n",
       "    <tr>\n",
       "      <td>mean</td>\n",
       "      <td>7.668333</td>\n",
       "      <td>4241.833333</td>\n",
       "      <td>5565.416667</td>\n",
       "      <td>0.570333</td>\n",
       "      <td>576.770833</td>\n",
       "    </tr>\n",
       "    <tr>\n",
       "      <td>std</td>\n",
       "      <td>0.950770</td>\n",
       "      <td>573.623768</td>\n",
       "      <td>3491.507166</td>\n",
       "      <td>0.055470</td>\n",
       "      <td>111.885816</td>\n",
       "    </tr>\n",
       "    <tr>\n",
       "      <td>min</td>\n",
       "      <td>5.000000</td>\n",
       "      <td>3063.000000</td>\n",
       "      <td>431.000000</td>\n",
       "      <td>0.451000</td>\n",
       "      <td>344.000000</td>\n",
       "    </tr>\n",
       "    <tr>\n",
       "      <td>25%</td>\n",
       "      <td>7.000000</td>\n",
       "      <td>3739.000000</td>\n",
       "      <td>3110.250000</td>\n",
       "      <td>0.529750</td>\n",
       "      <td>509.500000</td>\n",
       "    </tr>\n",
       "    <tr>\n",
       "      <td>50%</td>\n",
       "      <td>7.500000</td>\n",
       "      <td>4298.000000</td>\n",
       "      <td>4735.500000</td>\n",
       "      <td>0.564500</td>\n",
       "      <td>568.500000</td>\n",
       "    </tr>\n",
       "    <tr>\n",
       "      <td>75%</td>\n",
       "      <td>8.125000</td>\n",
       "      <td>4578.750000</td>\n",
       "      <td>7156.000000</td>\n",
       "      <td>0.595250</td>\n",
       "      <td>632.750000</td>\n",
       "    </tr>\n",
       "    <tr>\n",
       "      <td>max</td>\n",
       "      <td>10.000000</td>\n",
       "      <td>5342.000000</td>\n",
       "      <td>17782.000000</td>\n",
       "      <td>0.724000</td>\n",
       "      <td>968.000000</td>\n",
       "    </tr>\n",
       "  </tbody>\n",
       "</table>\n",
       "</div>"
      ],
      "text/plain": [
       "       Petrol_tax  Average_income  Paved_Highways  Population_Driver_licence(%)  Petrol_Consumption\n",
       "count   48.000000       48.000000       48.000000                     48.000000           48.000000\n",
       "mean     7.668333     4241.833333     5565.416667                      0.570333          576.770833\n",
       "std      0.950770      573.623768     3491.507166                      0.055470          111.885816\n",
       "min      5.000000     3063.000000      431.000000                      0.451000          344.000000\n",
       "25%      7.000000     3739.000000     3110.250000                      0.529750          509.500000\n",
       "50%      7.500000     4298.000000     4735.500000                      0.564500          568.500000\n",
       "75%      8.125000     4578.750000     7156.000000                      0.595250          632.750000\n",
       "max     10.000000     5342.000000    17782.000000                      0.724000          968.000000"
      ]
     },
     "execution_count": 3,
     "metadata": {},
     "output_type": "execute_result"
    }
   ],
   "source": [
    "# your code goes here2\n",
    "dataset.describe()"
   ]
  },
  {
   "cell_type": "code",
   "execution_count": 8,
   "metadata": {},
   "outputs": [
    {
     "name": "stdout",
     "output_type": "stream",
     "text": [
      "Mean Absolute Error: 49.97291666666667\n",
      "Mean Squared Error: 3873.2832291666673\n",
      "Root Mean Squared Error: 62.235707027129266\n"
     ]
    }
   ],
   "source": [
    "# Preparing the Data\n",
    "# divide the data into attributes and labels\n",
    "\n",
    "X = dataset.drop('Petrol_Consumption', axis=1)  \n",
    "y = dataset['Petrol_Consumption']  \n",
    "\n",
    "# dividing data into training and testing set .. type your code here\n",
    "\n",
    "from sklearn.model_selection import train_test_split  \n",
    "X_train, X_test, y_train, y_test = train_test_split(X, y, test_size=0.50, random_state=0) \n",
    "                                    #default tset_size=0.25,\n",
    "                                    #random_state=seedvalue\n",
    "\n",
    "\n",
    "# Training and Making Predictions\n",
    "# your code goes here3\n",
    "from sklearn.ensemble import RandomForestRegressor\n",
    "regressor = RandomForestRegressor(n_estimators=20, random_state=0)\n",
    "\n",
    "regressor.fit(X_train,y_train)\n",
    "y_pred = regressor.predict(X_test)\n",
    "\n",
    "\n",
    "# The RandomForestRegressor class of the sklearn.ensemble library\n",
    "# is used to solve regression problems via random forest. \n",
    "# The most important parameter of the RandomForestRegressor class \n",
    "# is the n_estimators parameter. \n",
    "# This parameter defines the number of trees in the random forest.\n",
    "\n",
    "# Evaluating the Algorithm\n",
    "from sklearn import metrics\n",
    "\n",
    "print('Mean Absolute Error:', metrics.mean_absolute_error(y_test, y_pred))  \n",
    "print('Mean Squared Error:', metrics.mean_squared_error(y_test, y_pred))  \n",
    "print('Root Mean Squared Error:', np.sqrt(metrics.mean_squared_error(y_test, y_pred)))"
   ]
  },
  {
   "cell_type": "markdown",
   "metadata": {},
   "source": [
    "With 20 trees, the root mean squared error is 62.23 which is greater than 10 percent of the average petrol consumption i.e. 576.77. This may indicate, among other things, that we have not used enough estimators (trees)."
   ]
  },
  {
   "cell_type": "code",
   "execution_count": 9,
   "metadata": {},
   "outputs": [
    {
     "name": "stdout",
     "output_type": "stream",
     "text": [
      "Mean Absolute Error: 48.13999999999999\n",
      "Mean Squared Error: 3392.6936999999984\n",
      "Root Mean Squared Error: 58.246834248738345\n"
     ]
    }
   ],
   "source": [
    "# If the number of estimators is changed to 50, the results are as follows:\n",
    "regressor = RandomForestRegressor(n_estimators=50, random_state=0)  \n",
    "regressor.fit(X_train, y_train)  \n",
    "y_pred = regressor.predict(X_test)  \n",
    "\n",
    "# Evaluating the Algorithm\n",
    "from sklearn import metrics\n",
    "\n",
    "print('Mean Absolute Error:', metrics.mean_absolute_error(y_test, y_pred))  \n",
    "print('Mean Squared Error:', metrics.mean_squared_error(y_test, y_pred))  \n",
    "print('Root Mean Squared Error:', np.sqrt(metrics.mean_squared_error(y_test, y_pred)))"
   ]
  },
  {
   "cell_type": "markdown",
   "metadata": {},
   "source": [
    "With 50 trees, the root mean squared error is 58.24 which is close to 10 percent of the average petrol consumption i.e. 576.77.  (~ these values may change depending upon the train-test data set)."
   ]
  },
  {
   "cell_type": "markdown",
   "metadata": {},
   "source": [
    "2: Using Random Forest for Classification\n",
    "------------------------------------------------------------\n",
    "\n",
    "Problem Definition : The task here is to predict whether a bank currency note is authentic or not based on four attributes i.e. variance of the image wavelet transformed image, skewness, entropy, and curtosis of the image."
   ]
  },
  {
   "cell_type": "code",
   "execution_count": 13,
   "metadata": {},
   "outputs": [
    {
     "name": "stdout",
     "output_type": "stream",
     "text": [
      "(1372, 5)\n",
      "------------\n",
      "   Variance  Skewness  Curtosis  Entropy  Class\n",
      "0   3.62160    8.6661   -2.8073 -0.44699      0\n",
      "1   4.54590    8.1674   -2.4586 -1.46210      0\n",
      "2   3.86600   -2.6383    1.9242  0.10645      0\n",
      "3   3.45660    9.5228   -4.0112 -3.59440      0\n",
      "4   0.32924   -4.4552    4.5718 -0.98880      0\n"
     ]
    }
   ],
   "source": [
    "# doing the minimum necessary imports\n",
    "# more modules would be imported as and when needed\n",
    "\n",
    "import pandas as pd  \n",
    "import numpy as np  \n",
    "import matplotlib.pyplot as plt  \n",
    "%matplotlib inline\n",
    "\n",
    "# reading data from CSV file. \n",
    "# reading bank currency note data into pandas dataframe.\n",
    "bankdata = pd.read_csv(\"./datasets_n_images/datasets_n_images/datasets_module_4/bill_authentication.csv\")  \n",
    "\n",
    "# Exploratory Data Analysis\n",
    "print(bankdata.shape)  \n",
    "print(\"------------\")\n",
    "print(bankdata.head()) "
   ]
  },
  {
   "cell_type": "code",
   "execution_count": 26,
   "metadata": {},
   "outputs": [
    {
     "name": "stdout",
     "output_type": "stream",
     "text": [
      "[[152   1]\n",
      " [  1 121]]\n",
      "              precision    recall  f1-score   support\n",
      "\n",
      "           0       0.99      0.99      0.99       153\n",
      "           1       0.99      0.99      0.99       122\n",
      "\n",
      "    accuracy                           0.99       275\n",
      "   macro avg       0.99      0.99      0.99       275\n",
      "weighted avg       0.99      0.99      0.99       275\n",
      "\n",
      "0.9927272727272727\n"
     ]
    }
   ],
   "source": [
    "# Data Preprocessing\n",
    "# Data preprocessing involves \n",
    "# (1) Dividing the data into attributes and labels and \n",
    "# (2) dividing the data into training and testing sets.\n",
    "\n",
    "# To divide the data into attributes and labels -- type your code\n",
    "X=bankdata.drop('Class',axis=1)\n",
    "y=bankdata['Class']\n",
    "\n",
    "\n",
    "# the final preprocessing step is to divide data into training and test sets\n",
    "from sklearn.model_selection import train_test_split\n",
    "X_train, X_test, y_train, y_test = train_test_split(X, y, test_size=0.20)\n",
    "\n",
    "\n",
    "\n",
    "# Training the Algorithm.\n",
    "# your code goes here6\n",
    "\n",
    "from sklearn.ensemble import RandomForestClassifier\n",
    "clf = RandomForestClassifier(n_estimators=30, random_state=0)\n",
    "\n",
    "clf.fit(X_train,y_train)\n",
    "y_pred = clf.predict(X_test)\n",
    "\n",
    "\n",
    "# Evaluating the Algorithm\n",
    "from sklearn.metrics import classification_report, confusion_matrix, accuracy_score\n",
    "\n",
    "print(confusion_matrix(y_test,y_pred))  \n",
    "print(classification_report(y_test,y_pred))  \n",
    "print(accuracy_score(y_test, y_pred))"
   ]
  },
  {
   "cell_type": "markdown",
   "metadata": {},
   "source": [
    "The accuracy achieved for by our random forest classifier with 20 trees is 100%. \n",
    "\n",
    "\n",
    "The learner / Student is expected to try n_estimators values of 10 and 50. \n",
    "Do you observe any difference ?\n",
    "We find that n_estimators=20 gives best gradient descent point.\n",
    "Also, pl note that we can get multiple gradient descent points at regular intervals too may be 20,40,60,...\n",
    "\n",
    "\n",
    "<img src= \"data:image/png;base64,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\" width=400 height=300>\n",
    "\n",
    "\n",
    "\n",
    "<img src= \"https://qph.fs.quoracdn.net/main-qimg-a820f5e19a9393391572a73868f8ca1a\" width=400 height=300>\n",
    "\n",
    "\n",
    "__Note:\n",
    "We will never get 100 percent. Ideal results in realtime datasets is between 85 to 97.__"
   ]
  }
 ],
 "metadata": {
  "kernelspec": {
   "display_name": "Python 3",
   "language": "python",
   "name": "python3"
  },
  "language_info": {
   "codemirror_mode": {
    "name": "ipython",
    "version": 3
   },
   "file_extension": ".py",
   "mimetype": "text/x-python",
   "name": "python",
   "nbconvert_exporter": "python",
   "pygments_lexer": "ipython3",
   "version": "3.8.3"
  },
  "toc": {
   "base_numbering": 1,
   "nav_menu": {},
   "number_sections": true,
   "sideBar": true,
   "skip_h1_title": false,
   "title_cell": "Table of Contents",
   "title_sidebar": "Contents",
   "toc_cell": false,
   "toc_position": {},
   "toc_section_display": true,
   "toc_window_display": false
  },
  "varInspector": {
   "cols": {
    "lenName": 16,
    "lenType": 16,
    "lenVar": 40
   },
   "kernels_config": {
    "python": {
     "delete_cmd_postfix": "",
     "delete_cmd_prefix": "del ",
     "library": "var_list.py",
     "varRefreshCmd": "print(var_dic_list())"
    },
    "r": {
     "delete_cmd_postfix": ") ",
     "delete_cmd_prefix": "rm(",
     "library": "var_list.r",
     "varRefreshCmd": "cat(var_dic_list()) "
    }
   },
   "types_to_exclude": [
    "module",
    "function",
    "builtin_function_or_method",
    "instance",
    "_Feature"
   ],
   "window_display": false
  }
 },
 "nbformat": 4,
 "nbformat_minor": 2
}
